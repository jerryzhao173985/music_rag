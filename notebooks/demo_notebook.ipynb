{
 "cells": [
  {
   "cell_type": "markdown",
   "metadata": {},
   "source": [
    "# Music RAG System - Interactive Demo\n",
    "\n",
    "This notebook demonstrates the Music RAG (Retrieval-Augmented Generation) system for music discovery.\n",
    "\n",
    "## Features Demonstrated:\n",
    "- Text-based music search\n",
    "- Dual-track retrieval (broad + targeted)\n",
    "- Metadata filtering\n",
    "- Hybrid search strategies\n",
    "- Evaluation metrics"
   ]
  },
  {
   "cell_type": "code",
   "execution_count": null,
   "metadata": {},
   "outputs": [],
   "source": [
    "# Setup - Add parent directory to path\n",
    "import sys\n",
    "from pathlib import Path\n",
    "sys.path.insert(0, str(Path.cwd().parent))\n",
    "\n",
    "# Imports\n",
    "from music_rag.cli import MusicRAGSystem\n",
    "from music_rag.src.models.music_item import RetrievalQuery\n",
    "from music_rag.src.data.sample_data_generator import generate_sample_music_data\n",
    "from music_rag.src.retrieval.evaluation import evaluate_retrieval\n",
    "import pandas as pd"
   ]
  },
  {
   "cell_type": "markdown",
   "metadata": {},
   "source": [
    "## 1. Initialize the System"
   ]
  },
  {
   "cell_type": "code",
   "execution_count": null,
   "metadata": {},
   "outputs": [],
   "source": [
    "# Initialize Music RAG system\n",
    "system = MusicRAGSystem(db_path=\"../data/chromadb_notebook\")\n",
    "\n",
    "# Generate sample data\n",
    "sample_items = generate_sample_music_data()\n",
    "\n",
    "# Display sample items\n",
    "print(f\"Generated {len(sample_items)} sample music items\\n\")\n",
    "for item in sample_items[:3]:\n",
    "    print(f\"- {item.title} by {item.artist}\")\n",
    "    print(f\"  Genre: {item.metadata.genre}, Mood: {item.metadata.mood}\")\n",
    "    print()"
   ]
  },
  {
   "cell_type": "markdown",
   "metadata": {},
   "source": [
    "## 2. Index Music Items"
   ]
  },
  {
   "cell_type": "code",
   "execution_count": null,
   "metadata": {},
   "outputs": [],
   "source": [
    "# Index the sample items\n",
    "system.index_music_items(sample_items)\n",
    "\n",
    "# Show database stats\n",
    "stats = system.db.get_stats()\n",
    "print(f\"\\nDatabase Statistics:\")\n",
    "print(f\"  Text embeddings: {stats['text_embeddings_count']}\")\n",
    "print(f\"  Audio embeddings: {stats['audio_embeddings_count']}\")"
   ]
  },
  {
   "cell_type": "markdown",
   "metadata": {},
   "source": [
    "## 3. Basic Text Search"
   ]
  },
  {
   "cell_type": "code",
   "execution_count": null,
   "metadata": {},
   "outputs": [],
   "source": [
    "# Simple text search\n",
    "query = RetrievalQuery(\n",
    "    text_query=\"upbeat energetic dance music\",\n",
    "    top_k=5\n",
    ")\n",
    "\n",
    "results = system.search(query)\n",
    "\n",
    "print(\"Search: 'upbeat energetic dance music'\\n\")\n",
    "for i, result in enumerate(results, 1):\n",
    "    item = result.music_item\n",
    "    print(f\"{i}. {item.title} - {item.artist}\")\n",
    "    print(f\"   Score: {result.score:.3f} ({result.retrieval_type})\")\n",
    "    print(f\"   Genre: {item.metadata.genre}\")\n",
    "    print(f\"   Mood: {', '.join(item.metadata.mood)}\")\n",
    "    print()"
   ]
  },
  {
   "cell_type": "markdown",
   "metadata": {},
   "source": [
    "## 4. Search with Metadata Filters"
   ]
  },
  {
   "cell_type": "code",
   "execution_count": null,
   "metadata": {},
   "outputs": [],
   "source": [
    "# Search with genre filter\n",
    "query = RetrievalQuery(\n",
    "    text_query=\"meditative spiritual music\",\n",
    "    top_k=3,\n",
    "    genre_filter=[\"Indian Classical\", \"Middle Eastern\"]\n",
    ")\n",
    "\n",
    "results = system.search(query)\n",
    "\n",
    "print(\"Search: 'meditative spiritual music' with genre filters\\n\")\n",
    "for i, result in enumerate(results, 1):\n",
    "    item = result.music_item\n",
    "    print(f\"{i}. {item.title} - {item.artist}\")\n",
    "    print(f\"   Score: {result.score:.3f}\")\n",
    "    print(f\"   Genre: {item.metadata.genre}\")\n",
    "    print()"
   ]
  },
  {
   "cell_type": "markdown",
   "metadata": {},
   "source": [
    "## 5. Dual-Track Retrieval Comparison"
   ]
  },
  {
   "cell_type": "code",
   "execution_count": null,
   "metadata": {},
   "outputs": [],
   "source": [
    "# Compare broad-only vs targeted-only vs dual-track\n",
    "query_text = \"powerful orchestral symphony\"\n",
    "\n",
    "# Broad only\n",
    "query_broad = RetrievalQuery(\n",
    "    text_query=query_text,\n",
    "    top_k=3,\n",
    "    use_broad_retrieval=True,\n",
    "    use_targeted_retrieval=False\n",
    ")\n",
    "\n",
    "# Targeted only\n",
    "query_targeted = RetrievalQuery(\n",
    "    text_query=query_text,\n",
    "    top_k=3,\n",
    "    use_broad_retrieval=False,\n",
    "    use_targeted_retrieval=True,\n",
    "    genre_filter=[\"Classical\", \"Rock\"]\n",
    ")\n",
    "\n",
    "# Dual-track\n",
    "query_dual = RetrievalQuery(\n",
    "    text_query=query_text,\n",
    "    top_k=3,\n",
    "    use_broad_retrieval=True,\n",
    "    use_targeted_retrieval=True,\n",
    "    genre_filter=[\"Classical\", \"Rock\"]\n",
    ")\n",
    "\n",
    "results_broad = system.search(query_broad)\n",
    "results_targeted = system.search(query_targeted)\n",
    "results_dual = system.search(query_dual)\n",
    "\n",
    "print(\"Comparison of Retrieval Strategies\\n\")\n",
    "print(\"=\"*60)\n",
    "print(\"\\nBroad Retrieval Only:\")\n",
    "for r in results_broad:\n",
    "    print(f\"  - {r.music_item.title} (score: {r.score:.3f})\")\n",
    "\n",
    "print(\"\\nTargeted Retrieval Only:\")\n",
    "for r in results_targeted:\n",
    "    print(f\"  - {r.music_item.title} (score: {r.score:.3f})\")\n",
    "\n",
    "print(\"\\nDual-Track Retrieval:\")\n",
    "for r in results_dual:\n",
    "    print(f\"  - {r.music_item.title} (score: {r.score:.3f}, type: {r.retrieval_type})\")"
   ]
  },
  {
   "cell_type": "markdown",
   "metadata": {},
   "source": [
    "## 6. Evaluation Metrics"
   ]
  },
  {
   "cell_type": "code",
   "execution_count": null,
   "metadata": {},
   "outputs": [],
   "source": [
    "# Example evaluation\n",
    "query = RetrievalQuery(text_query=\"jazz saxophone music\", top_k=10)\n",
    "results = system.search(query)\n",
    "\n",
    "retrieved_ids = [r.music_item.id for r in results]\n",
    "\n",
    "# Define ground truth (for demo purposes)\n",
    "relevant_ids = {'2', '8'}  # Miles Davis and Bossa Nova\n",
    "relevance_scores = {'2': 1.0, '8': 0.8}\n",
    "\n",
    "# Calculate metrics\n",
    "metrics = evaluate_retrieval(\n",
    "    retrieved_ids=retrieved_ids,\n",
    "    relevant_ids=relevant_ids,\n",
    "    relevance_scores=relevance_scores,\n",
    "    k_values=[1, 3, 5]\n",
    ")\n",
    "\n",
    "print(\"Evaluation Metrics:\")\n",
    "for metric, value in metrics.items():\n",
    "    print(f\"  {metric}: {value:.3f}\")"
   ]
  },
  {
   "cell_type": "markdown",
   "metadata": {},
   "source": [
    "## 7. Explore Dataset"
   ]
  },
  {
   "cell_type": "code",
   "execution_count": null,
   "metadata": {},
   "outputs": [],
   "source": [
    "# Create a dataframe of the music items\n",
    "data = []\n",
    "for item in sample_items:\n",
    "    data.append({\n",
    "        'Title': item.title,\n",
    "        'Artist': item.artist,\n",
    "        'Genre': item.metadata.genre,\n",
    "        'Cultural Origin': item.metadata.cultural_origin,\n",
    "        'Tempo (BPM)': item.metadata.tempo,\n",
    "        'Mood': ', '.join(item.metadata.mood[:2]) if item.metadata.mood else 'N/A',\n",
    "        'Duration (s)': item.metadata.duration,\n",
    "        'Live': item.metadata.is_live_performance\n",
    "    })\n",
    "\n",
    "df = pd.DataFrame(data)\n",
    "df"
   ]
  },
  {
   "cell_type": "markdown",
   "metadata": {},
   "source": [
    "## 8. Custom Query Examples"
   ]
  },
  {
   "cell_type": "code",
   "execution_count": null,
   "metadata": {},
   "outputs": [],
   "source": [
    "# Try your own queries!\n",
    "custom_queries = [\n",
    "    \"relaxing acoustic guitar\",\n",
    "    \"fast tempo percussion\",\n",
    "    \"romantic ballad\",\n",
    "    \"electronic synthesizer music\"\n",
    "]\n",
    "\n",
    "for query_text in custom_queries:\n",
    "    print(f\"\\nQuery: '{query_text}'\")\n",
    "    print(\"-\" * 50)\n",
    "    \n",
    "    query = RetrievalQuery(text_query=query_text, top_k=3)\n",
    "    results = system.search(query)\n",
    "    \n",
    "    for i, result in enumerate(results, 1):\n",
    "        print(f\"{i}. {result.music_item.title} - {result.music_item.artist}\")\n",
    "        print(f\"   Score: {result.score:.3f}\")"
   ]
  }
 ],
 "metadata": {
  "kernelspec": {
   "display_name": "Python 3",
   "language": "python",
   "name": "python3"
  },
  "language_info": {
   "codemirror_mode": {
    "name": "ipython",
    "version": 3
   },
   "file_extension": ".py",
   "mimetype": "text/x-python",
   "name": "python",
   "nbconvert_exporter": "python",
   "pygments_lexer": "ipython3",
   "version": "3.9.0"
  }
 },
 "nbformat": 4,
 "nbformat_minor": 4
}
